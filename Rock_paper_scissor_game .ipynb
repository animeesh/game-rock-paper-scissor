{
 "cells": [
  {
   "cell_type": "code",
   "execution_count": null,
   "metadata": {
    "scrolled": true
   },
   "outputs": [],
   "source": []
  },
  {
   "cell_type": "code",
   "execution_count": null,
   "metadata": {},
   "outputs": [
    {
     "name": "stdout",
     "output_type": "stream",
     "text": [
      "Select the input: rock\n",
      "rock\n",
      "\n",
      "you chose :rock,computer chose :paper.\n",
      "\n",
      "paper covers the rock! you lose\n",
      "play again enter y/ny\n",
      "Select the input: paper\n",
      "paper\n",
      "\n",
      "you chose :paper,computer chose :scissor.\n",
      "\n",
      "scissor cuts the paper! you lose\n",
      "play again enter y/ny\n"
     ]
    }
   ],
   "source": [
    "\n",
    "import random\n",
    "#input_list = [\"Rock\", \"Paper\", \"Scissor\"]\n",
    "while True:\n",
    "    input_user = input(\"Select the input: \")\n",
    "    print (input_user) \n",
    "\n",
    "    possible_action=[\"rock\",\"paper\",\"scissor\"]\n",
    "    computer_action=random.choice(possible_action)\n",
    "    \n",
    "    print(f\"\\nyou chose :{input_user},computer chose :{computer_action}.\\n\")\n",
    "\n",
    "    #hear starts the real technique\n",
    "    if input_user ==computer_action:\n",
    "        print(f\"both player selected {input_user}.hence its a tie!\")\n",
    "    elif input_user== \"rock\":\n",
    "        if computer_action==\"scissor\":\n",
    "            print(\"rock smashes scissor! you win\")\n",
    "        else:\n",
    "            print(\"paper covers the rock! you lose\")\n",
    "            \n",
    "    elif input_user== \"paper\":\n",
    "        if computer_action==\"rock\":\n",
    "            print(\"paper covers the rock! you win\")\n",
    "        else:\n",
    "            print(\"scissor cuts the paper! you lose\")\n",
    "            \n",
    "    elif input_user== \"scissor\":\n",
    "        if computer_action==\"rock\":\n",
    "            print(\"rock smashes scissor! you win\")\n",
    "        else:\n",
    "            print(\"rock smashes the scissor! you lose\") \n",
    "            \n",
    "    play_again=input(\"play again enter y/n  :\")\n",
    "    if play_again.lower()!= \"y\":\n",
    "        break \n",
    "\n",
    "        \n",
    "        \n",
    "    \n",
    "\n",
    "\n",
    "#print(f\"\\nyou chose :{input_user},computer chose :{computer_action}.\\n\")"
   ]
  },
  {
   "cell_type": "code",
   "execution_count": null,
   "metadata": {},
   "outputs": [],
   "source": [
    "if input_user ==computer_action:\n",
    "    print(f\"both player selected{input_user}.hence its a tie!\")\n",
    "    elif input_user== \"rock\":\n",
    "        if computer_action=\"scissor\":\n",
    "            print(\"rock smashes scissor! you win\")\n",
    "        else:\n",
    "            print(\"paper covers the rock! you lose\")\n",
    "            \n",
    "    elif input_user== \"paper\":\n",
    "        if computer_action=\"rock\":\n",
    "            print(\"paper covers therock! you win\")\n",
    "        else:\n",
    "            print(\"scissor cuts the paper! you lose\")\n",
    "            \n",
    "    elif input_user== \"scissor\":\n",
    "        if computer_action=\"rock\":\n",
    "            print(\"rock smashes scissor! you win\")\n",
    "        else:\n",
    "            print(\"rock smashes the scissor! you lose\")"
   ]
  }
 ],
 "metadata": {
  "kernelspec": {
   "display_name": "Python 3",
   "language": "python",
   "name": "python3"
  },
  "language_info": {
   "codemirror_mode": {
    "name": "ipython",
    "version": 3
   },
   "file_extension": ".py",
   "mimetype": "text/x-python",
   "name": "python",
   "nbconvert_exporter": "python",
   "pygments_lexer": "ipython3",
   "version": "3.8.3"
  }
 },
 "nbformat": 4,
 "nbformat_minor": 4
}
